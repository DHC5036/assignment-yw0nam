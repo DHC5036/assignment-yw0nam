{
 "cells": [
  {
   "cell_type": "code",
   "execution_count": 1,
   "metadata": {
    "ExecuteTime": {
     "end_time": "2021-05-12T09:27:08.455127Z",
     "start_time": "2021-05-12T09:26:49.031508Z"
    },
    "pycharm": {
     "is_executing": false
    }
   },
   "outputs": [],
   "source": [
    "# !pip install d2l\n",
    "import torch\n",
    "from torch import nn\n",
    "from d2l import torch as d2l\n",
    "import torch.nn.functional as F\n",
    "\n",
    "batch_size, max_window_size, num_noise_words = 512, 5, 5\n",
    "data_iter, vocab = d2l.load_data_ptb(batch_size, max_window_size,\n",
    "                                     num_noise_words)"
   ]
  },
  {
   "cell_type": "code",
   "execution_count": 2,
   "metadata": {
    "ExecuteTime": {
     "end_time": "2021-05-12T09:27:08.461890Z",
     "start_time": "2021-05-12T09:27:08.457733Z"
    },
    "pycharm": {
     "is_executing": false,
     "name": "#%%\n"
    }
   },
   "outputs": [
    {
     "name": "stdout",
     "output_type": "stream",
     "text": [
      "Parameter embedding_weight (torch.Size([20, 4]), dtype={embed.weight.dtype})\n"
     ]
    }
   ],
   "source": [
    "embed = nn.Embedding(num_embeddings=20, embedding_dim=4)\n",
    "print(f'Parameter embedding_weight ({embed.weight.shape}, '\n",
    "      'dtype={embed.weight.dtype})')"
   ]
  },
  {
   "cell_type": "code",
   "execution_count": 96,
   "metadata": {
    "ExecuteTime": {
     "end_time": "2021-05-12T10:08:46.892849Z",
     "start_time": "2021-05-12T10:08:46.884653Z"
    }
   },
   "outputs": [
    {
     "data": {
      "text/plain": [
       "tensor([[[ 0.2175, -2.0603,  1.6071,  0.6256],\n",
       "         [-0.9642,  1.2068, -1.6545, -1.3753],\n",
       "         [ 0.0942,  0.9756, -0.9378, -1.1653]],\n",
       "\n",
       "        [[-0.3458, -0.2209, -0.1117, -1.6890],\n",
       "         [ 0.6608,  0.5684, -0.0803,  0.1461],\n",
       "         [ 1.1185,  0.1876, -1.0653,  0.2527]]], grad_fn=<EmbeddingBackward>)"
      ]
     },
     "execution_count": 96,
     "metadata": {},
     "output_type": "execute_result"
    }
   ],
   "source": [
    "x = torch.tensor([[1, 2, 3], [4, 5, 6]])\n",
    "embed(x)"
   ]
  },
  {
   "cell_type": "markdown",
   "metadata": {},
   "source": [
    "**Implemented skip-gram to CBOW**"
   ]
  },
  {
   "cell_type": "code",
   "execution_count": 4,
   "metadata": {
    "ExecuteTime": {
     "end_time": "2021-05-12T09:27:08.479459Z",
     "start_time": "2021-05-12T09:27:08.476029Z"
    }
   },
   "outputs": [],
   "source": [
    "def skip_gram(center, contexts_and_negatives, embed_v, embed_u):\n",
    "    v = embed_v(center)\n",
    "    u = embed_u(contexts_and_negatives)\n",
    "    pred = torch.bmm(v, u.permute(0, 2, 1))\n",
    "    return pred"
   ]
  },
  {
   "cell_type": "code",
   "execution_count": 60,
   "metadata": {
    "ExecuteTime": {
     "end_time": "2021-05-12T09:54:31.569774Z",
     "start_time": "2021-05-12T09:54:31.564804Z"
    }
   },
   "outputs": [],
   "source": [
    "center = torch.ones((2, 1), dtype=torch.long)\n",
    "cont_neg = torch.ones((2, 4), dtype=torch.long)"
   ]
  },
  {
   "cell_type": "code",
   "execution_count": 38,
   "metadata": {
    "ExecuteTime": {
     "end_time": "2021-05-12T09:47:40.166369Z",
     "start_time": "2021-05-12T09:47:40.158164Z"
    }
   },
   "outputs": [
    {
     "data": {
      "text/plain": [
       "tensor([[[7.2665, 7.2665, 7.2665, 7.2665]],\n",
       "\n",
       "        [[7.2665, 7.2665, 7.2665, 7.2665]]], grad_fn=<BmmBackward0>)"
      ]
     },
     "execution_count": 38,
     "metadata": {},
     "output_type": "execute_result"
    }
   ],
   "source": [
    "skip_gram(center, cont_neg, embed, embed)"
   ]
  },
  {
   "cell_type": "code",
   "execution_count": 121,
   "metadata": {
    "ExecuteTime": {
     "end_time": "2021-05-12T10:31:32.660860Z",
     "start_time": "2021-05-12T10:31:32.652144Z"
    }
   },
   "outputs": [],
   "source": [
    "class cbow(nn.Module):\n",
    "    def __init__(self, vocab_size, context_size, emb_dim, hidden_size=128):\n",
    "        super(cbow, self).__init__()\n",
    "        self.embedding = nn.Embedding(vocab_size, emb_dim)\n",
    "        self.fc1 = nn.Linear(context_size*emb_dim, hidden_size)\n",
    "        self.fc2 = nn.Linear(hidden_size, vocab_size)\n",
    "    def forward(self, x, batch_size):\n",
    "        x = self.embedding(x).view(batch_size, -1)\n",
    "        x = self.fc1(x)\n",
    "        x = F.relu(x)\n",
    "        x = self.fc2(x)\n",
    "        return x"
   ]
  },
  {
   "cell_type": "code",
   "execution_count": 122,
   "metadata": {
    "ExecuteTime": {
     "end_time": "2021-05-12T10:31:33.017033Z",
     "start_time": "2021-05-12T10:31:33.012065Z"
    }
   },
   "outputs": [],
   "source": [
    "model = cbow(vocab_size=20, context_size=5, emb_dim=4)"
   ]
  },
  {
   "cell_type": "code",
   "execution_count": 123,
   "metadata": {
    "ExecuteTime": {
     "end_time": "2021-05-12T10:31:35.007152Z",
     "start_time": "2021-05-12T10:31:35.002950Z"
    }
   },
   "outputs": [],
   "source": [
    "word = torch.ones((2, 5), dtype=torch.long)"
   ]
  },
  {
   "cell_type": "code",
   "execution_count": 125,
   "metadata": {
    "ExecuteTime": {
     "end_time": "2021-05-12T10:31:56.042639Z",
     "start_time": "2021-05-12T10:31:56.034976Z"
    }
   },
   "outputs": [
    {
     "data": {
      "text/plain": [
       "tensor([[ 0.1540, -0.1793, -0.3494, -0.0374, -0.0552, -0.1179, -0.0022,  0.2474,\n",
       "         -0.0559, -0.0038,  0.0825,  0.3538,  0.2691, -0.2226, -0.0300, -0.1146,\n",
       "          0.2610, -0.1271, -0.1734,  0.1292],\n",
       "        [ 0.1540, -0.1793, -0.3494, -0.0374, -0.0552, -0.1179, -0.0022,  0.2474,\n",
       "         -0.0559, -0.0038,  0.0825,  0.3538,  0.2691, -0.2226, -0.0300, -0.1146,\n",
       "          0.2610, -0.1271, -0.1734,  0.1292]], grad_fn=<AddmmBackward>)"
      ]
     },
     "execution_count": 125,
     "metadata": {},
     "output_type": "execute_result"
    }
   ],
   "source": [
    "model.forward(word, 2)"
   ]
  },
  {
   "cell_type": "code",
   "execution_count": 126,
   "metadata": {
    "ExecuteTime": {
     "end_time": "2021-05-12T10:32:02.761721Z",
     "start_time": "2021-05-12T10:32:02.755218Z"
    }
   },
   "outputs": [
    {
     "data": {
      "text/plain": [
       "torch.Size([2, 20])"
      ]
     },
     "execution_count": 126,
     "metadata": {},
     "output_type": "execute_result"
    }
   ],
   "source": [
    "model.forward(word, 2).shape"
   ]
  }
 ],
 "metadata": {
  "kernelspec": {
   "display_name": "Python 3",
   "language": "python",
   "name": "python3"
  },
  "language_info": {
   "codemirror_mode": {
    "name": "ipython",
    "version": 3
   },
   "file_extension": ".py",
   "mimetype": "text/x-python",
   "name": "python",
   "nbconvert_exporter": "python",
   "pygments_lexer": "ipython3",
   "version": "3.7.10"
  }
 },
 "nbformat": 4,
 "nbformat_minor": 4
}
